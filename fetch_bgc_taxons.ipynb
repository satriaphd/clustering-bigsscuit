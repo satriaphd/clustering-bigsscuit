{
 "cells": [
  {
   "cell_type": "code",
   "execution_count": 1,
   "metadata": {},
   "outputs": [],
   "source": [
    "import sqlite3"
   ]
  },
  {
   "cell_type": "code",
   "execution_count": null,
   "metadata": {},
   "outputs": [],
   "source": [
    "def fetch_all_ncbi_accs:\n",
    "    def get_only_name(filename):\n",
    "        return filename[:filename.find('.cluster')+1]\n",
    "    from sqlite3.connect(\"../downloads/antismashdb_pfam31_full.db\"):\n",
    "        sql = \"SELECT orig_filename FROM bgc\"\n",
    "        # ...\n",
    "        return(map(get_only_name, [row['orig_filename'] for row in sql_results]))"
   ]
  },
  {
   "cell_type": "code",
   "execution_count": null,
   "metadata": {},
   "outputs": [],
   "source": []
  }
 ],
 "metadata": {
  "kernelspec": {
   "display_name": "Python 3",
   "language": "python",
   "name": "python3"
  },
  "language_info": {
   "codemirror_mode": {
    "name": "ipython",
    "version": 3
   },
   "file_extension": ".py",
   "mimetype": "text/x-python",
   "name": "python",
   "nbconvert_exporter": "python",
   "pygments_lexer": "ipython3",
   "version": "3.7.4"
  }
 },
 "nbformat": 4,
 "nbformat_minor": 2
}
