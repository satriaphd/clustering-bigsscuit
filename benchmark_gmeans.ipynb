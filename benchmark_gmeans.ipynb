{
 "cells": [
  {
   "cell_type": "code",
   "execution_count": 1,
   "metadata": {},
   "outputs": [],
   "source": [
    "import pandas as pd\n",
    "import numpy as np\n",
    "np.seterr(all='raise')\n",
    "%load_ext line_profiler"
   ]
  },
  {
   "cell_type": "code",
   "execution_count": 2,
   "metadata": {},
   "outputs": [],
   "source": [
    "df = pd.read_pickle(\"../results/mibig/features/1.pkl\")"
   ]
  },
  {
   "cell_type": "code",
   "execution_count": null,
   "metadata": {},
   "outputs": [],
   "source": []
  },
  {
   "cell_type": "code",
   "execution_count": 3,
   "metadata": {},
   "outputs": [],
   "source": [
    "from sklearn.cluster import KMeans, MiniBatchKMeans\n",
    "from sklearn.exceptions import ConvergenceWarning\n",
    "from scipy.stats import anderson\n",
    "import warnings\n",
    "\n",
    "def get_clusters(km):\n",
    "    \"get clusters array from fitted k-means object\"\n",
    "    return np.array([np.where(km.labels_ == i) for i in range(len(km.cluster_centers_))])\n",
    "\n",
    "\n",
    "def expand_clusters(data, clusters, centers):\n",
    "    \"for every cluster, try split into two\"\n",
    "    new_centers = []\n",
    "    for i, cluster in enumerate(clusters):\n",
    "        if len(centers) == 1:\n",
    "            data_cluster = data\n",
    "        else:\n",
    "            data_cluster = data[tuple(cluster)]\n",
    "            \n",
    "        if len(data_cluster) > 2:\n",
    "            with warnings.catch_warnings():\n",
    "                warnings.simplefilter(\"ignore\")\n",
    "                km = KMeans(n_clusters=2, init=\"k-means++\", n_init=1, precompute_distances=True, tol=0.025, algorithm=\"full\").fit(data_cluster)            \n",
    "                if len(set(km.labels_)) == 2 and not accept_test(data_cluster, km.cluster_centers_):\n",
    "                    new_centers.extend(km.cluster_centers_)\n",
    "                    continue\n",
    "        new_centers.append(centers[i])\n",
    "        \n",
    "    return np.array(new_centers)\n",
    "\n",
    "\n",
    "def accept_test(data, centers):\n",
    "    \"perform Anderson-Darling test\"\n",
    "    assert(len(centers) == 2)\n",
    "    v = np.subtract(centers[0], centers[1])\n",
    "    square_norm = np.sum(np.multiply(v, v))\n",
    "    points = np.divide(np.sum(np.multiply(data, v), axis=1), square_norm)\n",
    "\n",
    "    estimation, critical, _ = anderson(points, dist='norm')\n",
    "    return estimation < critical[-1]\n",
    "\n",
    "\n",
    "def gmeans(data: np.array):\n",
    "    # perform initial clustering with k=1\n",
    "    km = KMeans(n_clusters=1, init=\"random\", n_init=1, precompute_distances=False, algorithm=\"full\").fit(data)\n",
    "    #km = MiniBatchKMeans(n_clusters=1, init=\"random\", n_init=1).fit(data)\n",
    "    clusters, centers = get_clusters(km), km.cluster_centers_\n",
    "    while True:\n",
    "        new_centers = expand_clusters(data, clusters, centers)\n",
    "        if len(centers) == len(new_centers): # convergence\n",
    "            print(str(len(new_centers)))\n",
    "            break\n",
    "        # re-perform k-means, with existing centers\n",
    "        km = KMeans(n_clusters=len(new_centers), init=new_centers, n_init=1, precompute_distances=True, tol=0.025, algorithm=\"full\").fit(data)\n",
    "        #km = MiniBatchKMeans(n_clusters=len(new_centers), init=new_centers, batch_size=len(new_centers)*3, tol=0.025).fit(data)\n",
    "        clusters, centers = get_clusters(km), km.cluster_centers_\n",
    "\n",
    "    return clusters, centers"
   ]
  },
  {
   "cell_type": "code",
   "execution_count": 4,
   "metadata": {},
   "outputs": [],
   "source": [
    "sample = df.sample(500).values"
   ]
  },
  {
   "cell_type": "code",
   "execution_count": null,
   "metadata": {},
   "outputs": [],
   "source": [
    "%time cl, cs = gmeans(sample)"
   ]
  },
  {
   "cell_type": "code",
   "execution_count": null,
   "metadata": {},
   "outputs": [],
   "source": [
    "from pyclustering.cluster.gmeans import gmeans as pygmeans\n",
    "\n",
    "gmeans_py = pygmeans(sample)\n",
    "%time gmeans_py.process()\n",
    "len(gmeans_py.get_centers())\n",
    "\n",
    "gmeans_py2 = pygmeans(sample)\n",
    "%time gmeans_py2.process()\n",
    "len(gmeans_py2.get_centers())"
   ]
  },
  {
   "cell_type": "code",
   "execution_count": null,
   "metadata": {},
   "outputs": [],
   "source": []
  },
  {
   "cell_type": "code",
   "execution_count": null,
   "metadata": {},
   "outputs": [],
   "source": [
    "from sklearn.metrics import adjusted_rand_score\n",
    "\n",
    "labels_gm = [None for i in range(len(sample))]\n",
    "for ci, c in enumerate(cl):\n",
    "    for i in c[0]:\n",
    "        labels_gm[i] = ci\n",
    "        \n",
    "labels_pygm = [None for i in range(len(sample))]\n",
    "for ci, c in enumerate(gmeans_py.get_clusters()):\n",
    "    for i in c:\n",
    "        labels_pygm[i] = ci\n",
    "        \n",
    "print(adjusted_rand_score(labels_gm, labels_pygm))\n",
    "\n",
    "labels_pygm2 = [None for i in range(len(sample))]\n",
    "for ci, c in enumerate(gmeans_py2.get_clusters()):\n",
    "    for i in c:\n",
    "        labels_pygm2[i] = ci\n",
    "        \n",
    "print(adjusted_rand_score(labels_pygm2, labels_pygm))"
   ]
  },
  {
   "cell_type": "code",
   "execution_count": null,
   "metadata": {},
   "outputs": [],
   "source": []
  },
  {
   "cell_type": "code",
   "execution_count": null,
   "metadata": {},
   "outputs": [],
   "source": []
  },
  {
   "cell_type": "code",
   "execution_count": 12,
   "metadata": {},
   "outputs": [
    {
     "name": "stdout",
     "output_type": "stream",
     "text": [
      "CPU times: user 1.85 s, sys: 287 ms, total: 2.14 s\n",
      "Wall time: 1.13 s\n"
     ]
    }
   ],
   "source": [
    "from sklearn.cluster import MiniBatchKMeans\n",
    "\n",
    "%time mb = MiniBatchKMeans(n_clusters=5, init=\"k-means++\").fit(sample)"
   ]
  },
  {
   "cell_type": "code",
   "execution_count": 13,
   "metadata": {},
   "outputs": [
    {
     "name": "stdout",
     "output_type": "stream",
     "text": [
      "CPU times: user 5.22 s, sys: 314 ms, total: 5.53 s\n",
      "Wall time: 3.9 s\n"
     ]
    }
   ],
   "source": [
    "from sklearn.cluster import KMeans\n",
    "\n",
    "%time km = KMeans(n_clusters=5, init=\"k-means++\").fit(sample)"
   ]
  },
  {
   "cell_type": "code",
   "execution_count": 14,
   "metadata": {},
   "outputs": [
    {
     "data": {
      "text/plain": [
       "0.7558637845625084"
      ]
     },
     "execution_count": 14,
     "metadata": {},
     "output_type": "execute_result"
    }
   ],
   "source": [
    "from sklearn.metrics import adjusted_rand_score\n",
    "\n",
    "adjusted_rand_score(mb.labels_, km.labels_)"
   ]
  },
  {
   "cell_type": "code",
   "execution_count": null,
   "metadata": {},
   "outputs": [],
   "source": []
  }
 ],
 "metadata": {
  "kernelspec": {
   "display_name": "Python 3",
   "language": "python",
   "name": "python3"
  },
  "language_info": {
   "codemirror_mode": {
    "name": "ipython",
    "version": 3
   },
   "file_extension": ".py",
   "mimetype": "text/x-python",
   "name": "python",
   "nbconvert_exporter": "python",
   "pygments_lexer": "ipython3",
   "version": "3.7.4"
  }
 },
 "nbformat": 4,
 "nbformat_minor": 2
}
